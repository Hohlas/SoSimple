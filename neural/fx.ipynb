{
  "nbformat": 4,
  "nbformat_minor": 0,
  "metadata": {
    "colab": {
      "provenance": [],
      "authorship_tag": "ABX9TyNABPUnd0a+dOXsckmg2akU",
      "include_colab_link": true
    },
    "kernelspec": {
      "name": "python3",
      "display_name": "Python 3"
    },
    "language_info": {
      "name": "python"
    },
    "accelerator": "TPU"
  },
  "cells": [
    {
      "cell_type": "markdown",
      "metadata": {
        "id": "view-in-github",
        "colab_type": "text"
      },
      "source": [
        "<a href=\"https://colab.research.google.com/github/Hohlas/Nero/blob/main/fx.ipynb\" target=\"_parent\"><img src=\"https://colab.research.google.com/assets/colab-badge.svg\" alt=\"Open In Colab\"/></a>"
      ]
    },
    {
      "cell_type": "code",
      "execution_count": 2,
      "metadata": {
        "id": "HjRsPjKuDo81",
        "colab": {
          "base_uri": "https://localhost:8080/"
        },
        "outputId": "71809e0e-62c9-4e9d-89ae-0fea849d701e"
      },
      "outputs": [
        {
          "output_type": "stream",
          "name": "stdout",
          "text": [
            "Collecting mpl_finance\n",
            "  Downloading mpl_finance-0.10.1-py3-none-any.whl (8.4 kB)\n",
            "Requirement already satisfied: matplotlib in /usr/local/lib/python3.10/dist-packages (from mpl_finance) (3.7.1)\n",
            "Requirement already satisfied: contourpy>=1.0.1 in /usr/local/lib/python3.10/dist-packages (from matplotlib->mpl_finance) (1.2.0)\n",
            "Requirement already satisfied: cycler>=0.10 in /usr/local/lib/python3.10/dist-packages (from matplotlib->mpl_finance) (0.12.1)\n",
            "Requirement already satisfied: fonttools>=4.22.0 in /usr/local/lib/python3.10/dist-packages (from matplotlib->mpl_finance) (4.45.1)\n",
            "Requirement already satisfied: kiwisolver>=1.0.1 in /usr/local/lib/python3.10/dist-packages (from matplotlib->mpl_finance) (1.4.5)\n",
            "Requirement already satisfied: numpy>=1.20 in /usr/local/lib/python3.10/dist-packages (from matplotlib->mpl_finance) (1.23.5)\n",
            "Requirement already satisfied: packaging>=20.0 in /usr/local/lib/python3.10/dist-packages (from matplotlib->mpl_finance) (23.2)\n",
            "Requirement already satisfied: pillow>=6.2.0 in /usr/local/lib/python3.10/dist-packages (from matplotlib->mpl_finance) (9.4.0)\n",
            "Requirement already satisfied: pyparsing>=2.3.1 in /usr/local/lib/python3.10/dist-packages (from matplotlib->mpl_finance) (3.1.1)\n",
            "Requirement already satisfied: python-dateutil>=2.7 in /usr/local/lib/python3.10/dist-packages (from matplotlib->mpl_finance) (2.8.2)\n",
            "Requirement already satisfied: six>=1.5 in /usr/local/lib/python3.10/dist-packages (from python-dateutil>=2.7->matplotlib->mpl_finance) (1.16.0)\n",
            "Installing collected packages: mpl_finance\n",
            "Successfully installed mpl_finance-0.10.1\n"
          ]
        }
      ],
      "source": [
        "\n",
        "#!pip install mpl_finance\n",
        "import pandas as pd\n",
        "import matplotlib.pyplot as plt\n",
        "import matplotlib.dates as mdates\n",
        "from mpl_finance import candlestick_ohlc\n",
        "# подключение TPU в Colab\n",
        "import tensorflow as tf\n",
        "resolver = tf.distribute.cluster_resolver.TPUClusterResolver()\n",
        "tf.config.experimental_connect_to_cluster(resolver)\n",
        "tf.tpu.experimental.initialize_tpu_system(resolver)\n",
        "strategy = tf.distribute.TPUStrategy(resolver)\n",
        "\n",
        "import numpy as np\n",
        "import pandas as pd\n",
        "from sklearn.preprocessing import MinMaxScaler\n",
        "from sklearn.model_selection import train_test_split\n",
        "from keras.models import Sequential\n",
        "from keras.models import load_model\n",
        "from keras.layers import LSTM, Dense\n",
        "from tensorflow.keras.callbacks import EarlyStopping, ModelCheckpoint"
      ]
    },
    {
      "cell_type": "markdown",
      "source": [
        "Я пишу программу для автоматической торговли на валютном рынке на базе нейронной сети. Скажи пожалуйста, какую нейронную сеть лучше использовать для прогнозирования временных рядов, в частности для финансовых рынков форекс. Опиши подробно, но простым языком как нужно взаимодействовать с библиотекой нейронной сети, какие данные подавать на вход, как их подготавливать, что учитывать при обработке входных данных? Какие данные получаются на выходе нейронной сети, и как их интерпретировать?\n",
        "\n",
        "\n",
        "---\n",
        "\n",
        "\n",
        "*лучше всего подходят рекуррентные нейронные сети (RNN). Они хорошо работают с последовательными данными и учитывают зависимости между предыдущими и текущими значениями.\n",
        "Конкретнее, рекомендую использовать LSTM (долгая краткосрочная память) - это усовершенствованный вид RNN, который может учиться долгосрочным зависимостям(Keras, PyTorch, TensorFlow). На вход подаём подготовленные последовательности цен, выход - прогноз на следующий шаг. Используем алгоритм обратного распространения ошибки*.\n",
        "\n",
        "\n",
        "---\n",
        "\n",
        "\n",
        "\n",
        "файл history_data содержит цены часового таймфрейма за последние 10 лет. Но мне не требуется прогноз на каждом баре. Лучше определять точки (моменты входа), в которых цена с высокой вероятностью поменяет свое направление. Чтобы соотношение Profit/Loss в этих точках было максимальным. Достаточно, чтобы точки входа формировались в среднем с интервалом 20 - 30 бар.\n",
        "Да, приведи пожалуйста пример кода. В качестве входных данных предлагаю использовать массив из последних 100 значений ценового ряда\n"
      ],
      "metadata": {
        "id": "dSH3UQob_C_O"
      }
    },
    {
      "cell_type": "code",
      "source": [
        "# Загрузка и normalizация данных\n",
        "history_data = 'https://drive.google.com/uc?id=1_eYsMYv8L_rrFrNnVN39ugbSVvC12Mm5'\n",
        "data = pd.read_csv(history_data, header=None, sep=',', names=['date', 'time', 'open', 'high', 'low', 'close', 'volume'])\n",
        "data = data[['high', 'low']]\n",
        "print(f'Rows with missing values: {data.isnull().sum().sum()}') # количество пропусков в каждом столбце\n",
        "data.dropna(inplace=True) # удаление пустых строк без создания копии данных\n",
        "print('read ',len(data),'lines in ',history_data)"
      ],
      "metadata": {
        "colab": {
          "base_uri": "https://localhost:8080/"
        },
        "id": "T7J_HovFvXyH",
        "outputId": "02b363b6-943e-4e92-98eb-5503edd8e31a"
      },
      "execution_count": 3,
      "outputs": [
        {
          "output_type": "stream",
          "name": "stdout",
          "text": [
            "Rows with missing values: 0\n",
            "read  155311 lines in  https://drive.google.com/uc?id=1_eYsMYv8L_rrFrNnVN39ugbSVvC12Mm5\n"
          ]
        }
      ]
    },
    {
      "cell_type": "code",
      "source": [
        "\n",
        "# Преобразуем данные в последовательности\n",
        "X = [] # набор входных последовательностей\n",
        "y = [] # ответы для обучения\n",
        "\n",
        "scaler_high = MinMaxScaler(feature_range=(0, 1))\n",
        "scaler_low = MinMaxScaler(feature_range=(0, 1))\n",
        "for i in range(100, len(data)):\n",
        "    window_high = scaler_high.fit_transform(data['high'][i-100:i].values.reshape(-1, 1))\n",
        "    window_low = scaler_low.fit_transform(data['low'][i-100:i].values.reshape(-1, 1))\n",
        "    window = np.hstack((window_high, window_low))\n",
        "    X.append(window)\n",
        "    y.append(1 if data.iloc[i, 0] > data.iloc[i-1, 0] else 0)\n",
        "X, y = np.array(X), np.array(y)\n",
        "X = np.reshape(X, (X.shape[0], X.shape[1], 2))\n",
        "\n",
        "# Разделение данных на обучающую и валидационную выборки\n",
        "X_train, X_val, y_train, y_val = train_test_split(X, y, test_size=0.2, random_state=42)\n",
        "print('X_train, X_val, y_train, y_val:  are ready')\n",
        "# %% Создание модели LSTM\n",
        "# Создание обратных вызовов\n",
        "early_stopping = EarlyStopping(monitor='val_loss', patience=5) # для ранней остановки: останавливает обучение, когда val_loss не улучшается в течение трех эпох (patience=3)\n",
        "model_checkpoint = ModelCheckpoint('model_{epoch}.h5', save_freq='epoch') # для сохранения модели после каждой эпохи в файл model_{epoch}.h5\n",
        "\n",
        "with strategy.scope():\n",
        "    model = Sequential()\n",
        "    model.add(LSTM(units=50, return_sequences=True, input_shape=(X_train.shape[1], 2)))\n",
        "    model.add(LSTM(units=50))\n",
        "    model.add(Dense(1, activation='sigmoid'))\n",
        "\n",
        "    # Компиляция и обучение модели\n",
        "    model.compile(loss='binary_crossentropy', optimizer='adam', metrics=['accuracy'])\n",
        "    model.fit(X_train, y_train, validation_data=(X_val, y_val), epochs=100, batch_size=32, callbacks=[early_stopping, model_checkpoint]) # Обучение модели\n",
        "    model.save('result_model.h5') # Сохранение последней модели (необязательно, т.к. сохраняются какждую эпоху)\n",
        "print('Learning complete')"
      ],
      "metadata": {
        "colab": {
          "base_uri": "https://localhost:8080/"
        },
        "id": "4H-iNv_O_cZE",
        "outputId": "59ca4604-6771-4f5b-cdec-3dddfcf1993d"
      },
      "execution_count": 4,
      "outputs": [
        {
          "output_type": "stream",
          "name": "stdout",
          "text": [
            "X_train, X_val, y_train, y_val:  are ready\n",
            "Epoch 1/100\n",
            "3881/3881 [==============================] - 120s 29ms/step - loss: 0.6887 - accuracy: 0.5416 - val_loss: 0.6859 - val_accuracy: 0.5459\n",
            "Epoch 2/100\n",
            "3881/3881 [==============================] - 109s 28ms/step - loss: 0.6720 - accuracy: 0.5597 - val_loss: 0.6699 - val_accuracy: 0.5660\n",
            "Epoch 3/100\n",
            "3881/3881 [==============================] - 110s 28ms/step - loss: 0.6673 - accuracy: 0.5700 - val_loss: 0.6672 - val_accuracy: 0.5720\n",
            "Epoch 4/100\n",
            "3881/3881 [==============================] - 109s 28ms/step - loss: 0.6655 - accuracy: 0.5730 - val_loss: 0.6659 - val_accuracy: 0.5754\n",
            "Epoch 5/100\n",
            "3881/3881 [==============================] - 108s 28ms/step - loss: 0.6637 - accuracy: 0.5774 - val_loss: 0.6639 - val_accuracy: 0.5773\n",
            "Epoch 6/100\n",
            "3881/3881 [==============================] - 108s 28ms/step - loss: 0.6620 - accuracy: 0.5805 - val_loss: 0.6685 - val_accuracy: 0.5667\n",
            "Epoch 7/100\n",
            "3881/3881 [==============================] - 109s 28ms/step - loss: 0.6603 - accuracy: 0.5841 - val_loss: 0.6631 - val_accuracy: 0.5797\n",
            "Epoch 8/100\n",
            "3881/3881 [==============================] - 109s 28ms/step - loss: 0.6590 - accuracy: 0.5855 - val_loss: 0.6620 - val_accuracy: 0.5843\n",
            "Epoch 9/100\n",
            "3881/3881 [==============================] - 109s 28ms/step - loss: 0.6580 - accuracy: 0.5875 - val_loss: 0.6612 - val_accuracy: 0.5858\n",
            "Epoch 10/100\n",
            "3881/3881 [==============================] - 111s 29ms/step - loss: 0.6567 - accuracy: 0.5884 - val_loss: 0.6594 - val_accuracy: 0.5877\n",
            "Epoch 11/100\n",
            "3881/3881 [==============================] - 123s 32ms/step - loss: 0.6565 - accuracy: 0.5902 - val_loss: 0.6634 - val_accuracy: 0.5768\n",
            "Epoch 12/100\n",
            "3881/3881 [==============================] - 110s 28ms/step - loss: 0.6555 - accuracy: 0.5887 - val_loss: 0.6583 - val_accuracy: 0.5892\n",
            "Epoch 13/100\n",
            "3881/3881 [==============================] - 110s 28ms/step - loss: 0.6536 - accuracy: 0.5931 - val_loss: 0.6585 - val_accuracy: 0.5865\n",
            "Epoch 14/100\n",
            "3881/3881 [==============================] - 109s 28ms/step - loss: 0.6531 - accuracy: 0.5947 - val_loss: 0.6570 - val_accuracy: 0.5882\n",
            "Epoch 15/100\n",
            "3881/3881 [==============================] - 109s 28ms/step - loss: 0.6514 - accuracy: 0.5971 - val_loss: 0.6558 - val_accuracy: 0.5936\n",
            "Epoch 16/100\n",
            "3881/3881 [==============================] - 109s 28ms/step - loss: 0.6521 - accuracy: 0.5967 - val_loss: 0.6646 - val_accuracy: 0.5794\n",
            "Epoch 17/100\n",
            "3881/3881 [==============================] - 110s 28ms/step - loss: 0.6510 - accuracy: 0.5970 - val_loss: 0.6567 - val_accuracy: 0.5924\n",
            "Epoch 18/100\n",
            "3881/3881 [==============================] - 108s 28ms/step - loss: 0.6509 - accuracy: 0.5986 - val_loss: 0.6567 - val_accuracy: 0.5896\n",
            "Epoch 19/100\n",
            "3881/3881 [==============================] - 108s 28ms/step - loss: 0.6494 - accuracy: 0.5988 - val_loss: 0.6571 - val_accuracy: 0.5913\n",
            "Epoch 20/100\n",
            "3881/3881 [==============================] - 109s 28ms/step - loss: 0.6494 - accuracy: 0.6018 - val_loss: 0.6606 - val_accuracy: 0.5828\n",
            "Learning complete\n"
          ]
        }
      ]
    },
    {
      "cell_type": "code",
      "source": [
        "# %% Прогнозирование следующего бара\n",
        "model = load_model('model_6.h5') # загрузка модели с лучшими результатами\n",
        "last_100_data_high = scaler_high.transform(data['high'][-100:].values.reshape(-1, 1))\n",
        "last_100_data_low = scaler_low.transform(data['low'][-100:].values.reshape(-1, 1))\n",
        "last_100_data = np.hstack((last_100_data_high, last_100_data_low))\n",
        "predicted_price = model.predict(np.reshape(last_100_data, (1, last_100_data.shape[0], 2)))\n",
        "predicted_direction = 'up' if predicted_price > 0.5 else 'down'\n",
        "print(f'Предсказанное направление для следующего бара - {predicted_direction}.')"
      ],
      "metadata": {
        "id": "q5Al6r0zm11Y"
      },
      "execution_count": null,
      "outputs": []
    },
    {
      "cell_type": "code",
      "source": [
        "#     П Е Ч А Т Ь  Г Р А Ф И К А\n",
        "# Загрузка данных из файла\n",
        "history_data = 'https://drive.google.com/uc?id=1_eYsMYv8L_rrFrNnVN39ugbSVvC12Mm5'\n",
        "data = pd.read_csv(history_data, header=None, sep=',', names=['date', 'time', 'open', 'high', 'low', 'close', 'volume'])\n",
        "data = data.tail(400) # Выбор последних 100 строк\n",
        "# Выбираем только столбцы 'high' и 'low'\n",
        "data_hl = data[['high', 'low']]\n",
        "fig, ax = plt.subplots()\n",
        "# Строим бары по высоте\n",
        "ax.bar(range(len(data_hl)), data_hl['high'] - data_hl['low'], bottom=data_hl['low'], width=0.3, color='black')\n",
        "fig.set_size_inches(20, 5)# Установка размера окна\n",
        "ax.set_xlabel('Time (index)')\n",
        "ax.set_ylabel('Price')\n",
        "ax.set_title('High-Low Bar Chart')"
      ],
      "metadata": {
        "id": "F3FwBYQjv72B"
      },
      "execution_count": null,
      "outputs": []
    }
  ]
}